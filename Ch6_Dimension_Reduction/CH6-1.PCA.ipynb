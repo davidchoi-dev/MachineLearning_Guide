{
 "cells": [
  {
   "cell_type": "markdown",
   "metadata": {},
   "source": [
    "# 차원 축소(Dimension Reduction)\n",
    "- 메우 많은 피처로 구성된 다차원 데이터 세트의 차원을 축소해 새로운 차원의 데이터 세트를 생성하는 것.\n",
    "- 차원이 증가할수록 데이터 간의 거리가 기하급수적으로 멀어지고, sparse한 구조(차원의 저주)\n",
    "![image](https://cdn-images-1.medium.com/max/1600/0*iC_4D-LTTRUiZJeM.png)\n",
    "\n",
    "- 선형 회귀같은 모형에서 피처가 많아질수록 다중공선성의 위험도 높아진다.\n",
    "\n",
    "## 피처 선택(feature selection)\n",
    "- 특정 피처에 종속성이 강한 불필요한 피처는 아예 제거\n",
    "- 데이터의 특징을 잘 나타내는 주요 피처만 선택\n",
    "- step\n",
    "\n",
    "## 피처 추출(feature extraction)\n",
    "- 저추원의 중요 피처로 압축해서 추출.\n",
    "- 기존의 피처가 압축되는 것이므로, 기존의 피처와는 완전히 다른 값\n",
    "- 피처를 함축적으로 더 잘 설명할 수 있는 또 다른 공간으로 매핑해 추출하는 것\n",
    "- 잠재적인 요소를 추출(latent factor)\n",
    "- PCA, SVD, NMF"
   ]
  },
  {
   "cell_type": "markdown",
   "metadata": {},
   "source": [
    "# PCA(Principal Component Analysis)\n",
    "- 여러 변수 간 상관관계를 ㅣ용해 이를 대표하는 주성분(Principal Component)을 추출해 차원을 축소\n"
   ]
  },
  {
   "cell_type": "code",
   "execution_count": null,
   "metadata": {},
   "outputs": [],
   "source": []
  }
 ],
 "metadata": {
  "hide_input": false,
  "kernelspec": {
   "display_name": "Python 3",
   "language": "python",
   "name": "python3"
  },
  "language_info": {
   "codemirror_mode": {
    "name": "ipython",
    "version": 3
   },
   "file_extension": ".py",
   "mimetype": "text/x-python",
   "name": "python",
   "nbconvert_exporter": "python",
   "pygments_lexer": "ipython3",
   "version": "3.7.1"
  },
  "toc": {
   "base_numbering": 1,
   "nav_menu": {},
   "number_sections": true,
   "sideBar": true,
   "skip_h1_title": false,
   "title_cell": "Table of Contents",
   "title_sidebar": "Contents",
   "toc_cell": false,
   "toc_position": {},
   "toc_section_display": true,
   "toc_window_display": true
  }
 },
 "nbformat": 4,
 "nbformat_minor": 2
}
