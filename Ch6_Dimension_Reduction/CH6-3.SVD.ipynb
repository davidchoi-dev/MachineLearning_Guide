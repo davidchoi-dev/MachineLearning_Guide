{
 "cells": [
  {
   "cell_type": "markdown",
   "metadata": {},
   "source": [
    "# SVD\n",
    "- Singlar Value Decomposition\n",
    "- PCA는 정방행렬만을 고유벡터로 분해.\n",
    "- SVD는 행과 열의 크기가 다른 행렬에도 적용\n",
    "\n",
    "##### A(m x n) = (mxm)(mxn)(nxn)\n",
    "$$A = U \\Sigma V^T$$\n",
    "- $\\Sigma$는 대각행렬. 대각원소들이 A의 특이값(eigen value)\n",
    "\n",
    "일반적으로 $\\Sigma$의 비대각 부분과 대각원소 중에 특이값이 0인 부분도 모두 제거하고 제거된 $\\Sigma$에 대응되는 U와V 원소도 함께 제거해 차원을 줄임\n",
    "\n",
    "##### A(m x n) = (mxp)(pxp)(pxn)\n",
    "![image](https://intoli.com/blog/pca-and-svd/img/svd-matrices.png)\n",
    "\n",
    "# Truncated SVD\n",
    "- $\\Sigma$에 있는 대각원소, 특이값 중 상위 일부 데이터만 추출해 분해하는 방식\n",
    "- 인위적으로 더 작은 차원으로 분해하기 때문에 원본 행렬을 정확하게 다시 복원할 수 없다\n",
    "- 당연히 원래 차원의 차수에 가깝게 truncate할 술고 원본 행렬에 더 가깝게 복원"
   ]
  },
  {
   "cell_type": "markdown",
   "metadata": {},
   "source": [
    "# SVD example"
   ]
  },
  {
   "cell_type": "code",
   "execution_count": 1,
   "metadata": {
    "ExecuteTime": {
     "end_time": "2019-04-17T12:33:44.191951Z",
     "start_time": "2019-04-17T12:33:44.051756Z"
    }
   },
   "outputs": [
    {
     "name": "stdout",
     "output_type": "stream",
     "text": [
      "[[-0.212 -0.285 -0.574 -0.44 ]\n",
      " [-0.33   1.184  1.615  0.367]\n",
      " [-0.014  0.63   1.71  -1.327]\n",
      " [ 0.402 -0.191  1.404 -1.969]]\n"
     ]
    }
   ],
   "source": [
    "import numpy as np\n",
    "from numpy.linalg import svd\n",
    "\n",
    "np.random.seed(121)\n",
    "a = np.random.randn(4,4)\n",
    "print(np.round(a,3))"
   ]
  },
  {
   "cell_type": "markdown",
   "metadata": {},
   "source": [
    "## SVD 적용"
   ]
  },
  {
   "cell_type": "code",
   "execution_count": 4,
   "metadata": {
    "ExecuteTime": {
     "end_time": "2019-04-17T12:35:24.024686Z",
     "start_time": "2019-04-17T12:35:24.019667Z"
    }
   },
   "outputs": [
    {
     "name": "stdout",
     "output_type": "stream",
     "text": [
      "(4, 4) (4,) (4, 4)\n"
     ]
    }
   ],
   "source": [
    "#Sigma의 경우 0이 아닌 값만 반환하므로, 1차\n",
    "U, Sigma, Vt = svd(a)\n",
    "print(U.shape, Sigma.shape, Vt.shape)"
   ]
  },
  {
   "cell_type": "code",
   "execution_count": 8,
   "metadata": {
    "ExecuteTime": {
     "end_time": "2019-04-17T12:36:33.619321Z",
     "start_time": "2019-04-17T12:36:33.611341Z"
    }
   },
   "outputs": [
    {
     "name": "stdout",
     "output_type": "stream",
     "text": [
      "U matrix : \n",
      " [[-0.079 -0.318  0.867  0.376]\n",
      " [ 0.383  0.787  0.12   0.469]\n",
      " [ 0.656  0.022  0.357 -0.664]\n",
      " [ 0.645 -0.529 -0.328  0.444]] \n",
      "\n",
      "Sigma value : \n",
      " [3.423 2.023 0.463 0.079] \n",
      "\n",
      "V transpose matrix : \n",
      " [[ 0.041  0.224  0.786 -0.574]\n",
      " [-0.2    0.562  0.37   0.712]\n",
      " [-0.778  0.395 -0.333 -0.357]\n",
      " [-0.593 -0.692  0.366  0.189]]\n"
     ]
    }
   ],
   "source": [
    "print('U matrix : \\n', np.round(U,3), '\\n')\n",
    "print('Sigma value : \\n', np.round(Sigma,3), '\\n')\n",
    "print('V transpose matrix : \\n', np.round(Vt,3))"
   ]
  },
  {
   "cell_type": "markdown",
   "metadata": {},
   "source": [
    "## 분해된 값을 다시 원래대로"
   ]
  },
  {
   "cell_type": "code",
   "execution_count": 9,
   "metadata": {
    "ExecuteTime": {
     "end_time": "2019-04-17T12:37:18.925922Z",
     "start_time": "2019-04-17T12:37:18.915950Z"
    }
   },
   "outputs": [
    {
     "data": {
      "text/plain": [
       "array([[3.4229581 , 0.        , 0.        , 0.        ],\n",
       "       [0.        , 2.02287339, 0.        , 0.        ],\n",
       "       [0.        , 0.        , 0.46263157, 0.        ],\n",
       "       [0.        , 0.        , 0.        , 0.07935069]])"
      ]
     },
     "execution_count": 9,
     "metadata": {},
     "output_type": "execute_result"
    }
   ],
   "source": [
    "sigma_mat = np.diag(Sigma)\n",
    "sigma_mat"
   ]
  },
  {
   "cell_type": "code",
   "execution_count": 11,
   "metadata": {
    "ExecuteTime": {
     "end_time": "2019-04-17T12:38:09.059147Z",
     "start_time": "2019-04-17T12:38:09.052137Z"
    }
   },
   "outputs": [
    {
     "data": {
      "text/plain": [
       "array([[-0.212, -0.285, -0.574, -0.44 ],\n",
       "       [-0.33 ,  1.184,  1.615,  0.367],\n",
       "       [-0.014,  0.63 ,  1.71 , -1.327],\n",
       "       [ 0.402, -0.191,  1.404, -1.969]])"
      ]
     },
     "execution_count": 11,
     "metadata": {},
     "output_type": "execute_result"
    }
   ],
   "source": [
    "a_ = np.dot(np.dot(U, sigma_mat), Vt)\n",
    "np.round(a_,3)"
   ]
  },
  {
   "cell_type": "markdown",
   "metadata": {},
   "source": [
    "## row vector dependent한 경우,"
   ]
  },
  {
   "cell_type": "code",
   "execution_count": 12,
   "metadata": {
    "ExecuteTime": {
     "end_time": "2019-04-17T12:39:02.385092Z",
     "start_time": "2019-04-17T12:39:02.380075Z"
    }
   },
   "outputs": [
    {
     "name": "stdout",
     "output_type": "stream",
     "text": [
      "[[-0.212 -0.285 -0.574 -0.44 ]\n",
      " [-0.33   1.184  1.615  0.367]\n",
      " [-0.542  0.899  1.041 -0.073]\n",
      " [-0.212 -0.285 -0.574 -0.44 ]]\n"
     ]
    }
   ],
   "source": [
    "a[2] = a[0] + a[1]\n",
    "a[3] = a[0]\n",
    "\n",
    "print(np.round(a,3))"
   ]
  },
  {
   "cell_type": "code",
   "execution_count": 14,
   "metadata": {
    "ExecuteTime": {
     "end_time": "2019-04-17T12:41:52.642719Z",
     "start_time": "2019-04-17T12:41:52.637735Z"
    }
   },
   "outputs": [
    {
     "name": "stdout",
     "output_type": "stream",
     "text": [
      "(4, 4) (4,) (4, 4)\n"
     ]
    }
   ],
   "source": [
    "U, Sigma, Vt = svd(a)\n",
    "print(U.shape, Sigma.shape, Vt.shape)"
   ]
  },
  {
   "cell_type": "markdown",
   "metadata": {},
   "source": [
    "Sigma 값 중 2개가 0. 선형 독립인 row vector는 2개. Rank 2"
   ]
  },
  {
   "cell_type": "code",
   "execution_count": 19,
   "metadata": {
    "ExecuteTime": {
     "end_time": "2019-04-17T12:45:29.840868Z",
     "start_time": "2019-04-17T12:45:29.834880Z"
    }
   },
   "outputs": [
    {
     "name": "stdout",
     "output_type": "stream",
     "text": [
      "U matrix : \n",
      " [[ 0.246  0.583 -0.071 -0.771]\n",
      " [-0.774 -0.017  0.551 -0.31 ]\n",
      " [-0.529  0.566 -0.551  0.31 ]\n",
      " [ 0.246  0.583  0.623  0.461]] \n",
      "\n",
      "Sigma value : \n",
      " [2.663 0.807 0.    0.   ] \n",
      "\n",
      "V transpose matrix : \n",
      " [[ 0.164 -0.575 -0.782 -0.173]\n",
      " [-0.68   0.194 -0.132 -0.695]\n",
      " [-0.703 -0.444  0.056  0.553]\n",
      " [-0.129  0.659 -0.606  0.426]]\n"
     ]
    }
   ],
   "source": [
    "print('U matrix : \\n', np.round(U,3), '\\n')\n",
    "print('Sigma value : \\n', np.round(Sigma,3), '\\n')\n",
    "print('V transpose matrix : \\n', np.round(Vt,3))"
   ]
  },
  {
   "cell_type": "markdown",
   "metadata": {},
   "source": [
    "## 분해된 값을 다시 원래대로\n",
    "Sigma에서 0에 대응되는 값을 제외하고 복원"
   ]
  },
  {
   "cell_type": "code",
   "execution_count": 23,
   "metadata": {
    "ExecuteTime": {
     "end_time": "2019-04-17T12:46:33.209817Z",
     "start_time": "2019-04-17T12:46:33.202835Z"
    }
   },
   "outputs": [
    {
     "data": {
      "text/plain": [
       "array([[2.66335286, 0.        ],\n",
       "       [0.        , 0.80703506]])"
      ]
     },
     "execution_count": 23,
     "metadata": {},
     "output_type": "execute_result"
    }
   ],
   "source": [
    "Sigma_ = np.diag(Sigma[:2])\n",
    "Sigma_"
   ]
  },
  {
   "cell_type": "code",
   "execution_count": 16,
   "metadata": {
    "ExecuteTime": {
     "end_time": "2019-04-17T12:44:16.578947Z",
     "start_time": "2019-04-17T12:44:16.572959Z"
    }
   },
   "outputs": [
    {
     "data": {
      "text/plain": [
       "array([[ 0.24568427,  0.58278576],\n",
       "       [-0.77441642, -0.01670951],\n",
       "       [-0.52873215,  0.56607625],\n",
       "       [ 0.24568427,  0.58278576]])"
      ]
     },
     "execution_count": 16,
     "metadata": {},
     "output_type": "execute_result"
    }
   ],
   "source": [
    "U_ = U[:, :2]\n",
    "U_"
   ]
  },
  {
   "cell_type": "code",
   "execution_count": 17,
   "metadata": {
    "ExecuteTime": {
     "end_time": "2019-04-17T12:44:42.761700Z",
     "start_time": "2019-04-17T12:44:42.755715Z"
    }
   },
   "outputs": [
    {
     "data": {
      "text/plain": [
       "array([[ 0.16449395, -0.57517122, -0.78233269, -0.17342252],\n",
       "       [-0.67967123,  0.19439734, -0.13178782, -0.69490191]])"
      ]
     },
     "execution_count": 17,
     "metadata": {},
     "output_type": "execute_result"
    }
   ],
   "source": [
    "Vt_ = Vt[:2]\n",
    "Vt_"
   ]
  },
  {
   "cell_type": "code",
   "execution_count": 24,
   "metadata": {
    "ExecuteTime": {
     "end_time": "2019-04-17T12:46:36.379316Z",
     "start_time": "2019-04-17T12:46:36.372340Z"
    },
    "scrolled": true
   },
   "outputs": [
    {
     "data": {
      "text/plain": [
       "array([[-0.212, -0.285, -0.574, -0.44 ],\n",
       "       [-0.33 ,  1.184,  1.615,  0.367],\n",
       "       [-0.542,  0.899,  1.041, -0.073],\n",
       "       [-0.212, -0.285, -0.574, -0.44 ]])"
      ]
     },
     "execution_count": 24,
     "metadata": {},
     "output_type": "execute_result"
    }
   ],
   "source": [
    "a_ = np.dot(np.dot(U_, Sigma_), Vt_)\n",
    "np.round(a_, 3)"
   ]
  },
  {
   "cell_type": "markdown",
   "metadata": {},
   "source": [
    "# truncated SVD example - using scipy"
   ]
  },
  {
   "cell_type": "code",
   "execution_count": 25,
   "metadata": {
    "ExecuteTime": {
     "end_time": "2019-04-17T12:50:39.885924Z",
     "start_time": "2019-04-17T12:50:39.757914Z"
    }
   },
   "outputs": [],
   "source": [
    "from scipy.sparse.linalg import svds #truncated SVD\n",
    "from scipy.linalg import svd #일반 SVD"
   ]
  },
  {
   "cell_type": "code",
   "execution_count": 26,
   "metadata": {
    "ExecuteTime": {
     "end_time": "2019-04-17T12:51:22.843181Z",
     "start_time": "2019-04-17T12:51:22.835354Z"
    }
   },
   "outputs": [
    {
     "data": {
      "text/plain": [
       "array([[0.11133083, 0.21076757, 0.23296249, 0.15194456, 0.83017814,\n",
       "        0.40791941],\n",
       "       [0.5557906 , 0.74552394, 0.24849976, 0.9686594 , 0.95268418,\n",
       "        0.48984885],\n",
       "       [0.01829731, 0.85760612, 0.40493829, 0.62247394, 0.29537149,\n",
       "        0.92958852],\n",
       "       [0.4056155 , 0.56730065, 0.24575605, 0.22573721, 0.03827786,\n",
       "        0.58098021],\n",
       "       [0.82925331, 0.77326256, 0.94693849, 0.73632338, 0.67328275,\n",
       "        0.74517176],\n",
       "       [0.51161442, 0.46920965, 0.6439515 , 0.82081228, 0.14548493,\n",
       "        0.01806415]])"
      ]
     },
     "execution_count": 26,
     "metadata": {},
     "output_type": "execute_result"
    }
   ],
   "source": [
    "#6x6\n",
    "np.random.seed(121)\n",
    "matrix = np.random.random((6,6))\n",
    "matrix"
   ]
  },
  {
   "cell_type": "markdown",
   "metadata": {},
   "source": [
    "## SVD 적용"
   ]
  },
  {
   "cell_type": "code",
   "execution_count": 27,
   "metadata": {
    "ExecuteTime": {
     "end_time": "2019-04-17T12:52:39.025543Z",
     "start_time": "2019-04-17T12:52:39.015667Z"
    }
   },
   "outputs": [
    {
     "name": "stdout",
     "output_type": "stream",
     "text": [
      "(6, 6) (6,) (6, 6)\n",
      "\n",
      " Sigma matrix [3.2535007  0.88116505 0.83865238 0.55463089 0.35834824 0.0349925 ]\n"
     ]
    }
   ],
   "source": [
    "U, Sigma, Vt = svd(matrix, full_matrices=False)\n",
    "print(U.shape, Sigma.shape, Vt.shape)\n",
    "\n",
    "print('\\n Sigma matrix', Sigma)"
   ]
  },
  {
   "cell_type": "markdown",
   "metadata": {},
   "source": [
    "## truncated SVD 적용\n",
    "- 특이값 4"
   ]
  },
  {
   "cell_type": "code",
   "execution_count": 31,
   "metadata": {
    "ExecuteTime": {
     "end_time": "2019-04-17T12:54:59.329629Z",
     "start_time": "2019-04-17T12:54:59.317290Z"
    }
   },
   "outputs": [
    {
     "name": "stdout",
     "output_type": "stream",
     "text": [
      "Truncated SVD 분해 행렬 차원 :  (6, 4) (4,) (4, 6)\n",
      "\n",
      " Trucnated SVD Sigma값 행렬 :  [0.55463089 0.83865238 0.88116505 3.2535007 ]\n"
     ]
    }
   ],
   "source": [
    "num_components = 4\n",
    "\n",
    "U_tr, Sigma_tr, Vt_tr = svds(matrix, k = num_components)\n",
    "print('Truncated SVD 분해 행렬 차원 : ', U_tr.shape, Sigma_tr.shape, Vt_tr.shape)\n",
    "\n",
    "print('\\n Trucnated SVD Sigma값 행렬 : ', Sigma_tr)"
   ]
  },
  {
   "cell_type": "markdown",
   "metadata": {
    "ExecuteTime": {
     "end_time": "2019-04-17T12:54:51.388913Z",
     "start_time": "2019-04-17T12:54:51.380236Z"
    }
   },
   "source": [
    "## 분해된 값을 다시 원래대로"
   ]
  },
  {
   "cell_type": "code",
   "execution_count": 33,
   "metadata": {
    "ExecuteTime": {
     "end_time": "2019-04-17T12:56:22.053995Z",
     "start_time": "2019-04-17T12:56:22.045590Z"
    }
   },
   "outputs": [
    {
     "data": {
      "text/plain": [
       "array([[0.11133083, 0.21076757, 0.23296249, 0.15194456, 0.83017814,\n",
       "        0.40791941],\n",
       "       [0.5557906 , 0.74552394, 0.24849976, 0.9686594 , 0.95268418,\n",
       "        0.48984885],\n",
       "       [0.01829731, 0.85760612, 0.40493829, 0.62247394, 0.29537149,\n",
       "        0.92958852],\n",
       "       [0.4056155 , 0.56730065, 0.24575605, 0.22573721, 0.03827786,\n",
       "        0.58098021],\n",
       "       [0.82925331, 0.77326256, 0.94693849, 0.73632338, 0.67328275,\n",
       "        0.74517176],\n",
       "       [0.51161442, 0.46920965, 0.6439515 , 0.82081228, 0.14548493,\n",
       "        0.01806415]])"
      ]
     },
     "execution_count": 33,
     "metadata": {},
     "output_type": "execute_result"
    }
   ],
   "source": [
    "# SVD\n",
    "Sigma_ = np.diag(Sigma)\n",
    "np.dot(np.dot(U, Sigma_), Vt)"
   ]
  },
  {
   "cell_type": "code",
   "execution_count": 34,
   "metadata": {
    "ExecuteTime": {
     "end_time": "2019-04-17T12:57:06.244552Z",
     "start_time": "2019-04-17T12:57:06.229755Z"
    }
   },
   "outputs": [
    {
     "data": {
      "text/plain": [
       "array([[0.19222941, 0.21792946, 0.15951023, 0.14084013, 0.81641405,\n",
       "        0.42533093],\n",
       "       [0.44874275, 0.72204422, 0.34594106, 0.99148577, 0.96866325,\n",
       "        0.4754868 ],\n",
       "       [0.12656662, 0.88860729, 0.30625735, 0.59517439, 0.28036734,\n",
       "        0.93961948],\n",
       "       [0.23989012, 0.51026588, 0.39697353, 0.27308905, 0.05971563,\n",
       "        0.57156395],\n",
       "       [0.83806144, 0.78847467, 0.93868685, 0.72673231, 0.6740867 ,\n",
       "        0.73812389],\n",
       "       [0.59726589, 0.47953891, 0.56613544, 0.80746028, 0.13135039,\n",
       "        0.03479656]])"
      ]
     },
     "execution_count": 34,
     "metadata": {},
     "output_type": "execute_result"
    }
   ],
   "source": [
    "# truncated SVD\n",
    "Sigma_tr_ = np.diag(Sigma_tr)\n",
    "np.dot(np.dot(U_tr,Sigma_tr_ ), Vt_tr)"
   ]
  },
  {
   "cell_type": "markdown",
   "metadata": {},
   "source": [
    "# truncated SVD example - using sklearn\n",
    "- scipy처럼 $U, \\Sigma, Vt$를 반환하지 않음"
   ]
  },
  {
   "cell_type": "code",
   "execution_count": 37,
   "metadata": {
    "ExecuteTime": {
     "end_time": "2019-04-17T13:00:17.706315Z",
     "start_time": "2019-04-17T13:00:17.190234Z"
    }
   },
   "outputs": [],
   "source": [
    "from sklearn.decomposition import TruncatedSVD, PCA\n",
    "from sklearn.datasets import load_iris\n",
    "import matplotlib.pyplot as plt\n",
    "\n",
    "iris = load_iris()\n",
    "iris_ftrs = iris.data"
   ]
  },
  {
   "cell_type": "code",
   "execution_count": null,
   "metadata": {},
   "outputs": [],
   "source": []
  }
 ],
 "metadata": {
  "hide_input": false,
  "kernelspec": {
   "display_name": "Python 3",
   "language": "python",
   "name": "python3"
  },
  "language_info": {
   "codemirror_mode": {
    "name": "ipython",
    "version": 3
   },
   "file_extension": ".py",
   "mimetype": "text/x-python",
   "name": "python",
   "nbconvert_exporter": "python",
   "pygments_lexer": "ipython3",
   "version": "3.7.1"
  },
  "toc": {
   "base_numbering": 1,
   "nav_menu": {},
   "number_sections": true,
   "sideBar": true,
   "skip_h1_title": false,
   "title_cell": "Table of Contents",
   "title_sidebar": "Contents",
   "toc_cell": false,
   "toc_position": {},
   "toc_section_display": true,
   "toc_window_display": true
  }
 },
 "nbformat": 4,
 "nbformat_minor": 2
}
