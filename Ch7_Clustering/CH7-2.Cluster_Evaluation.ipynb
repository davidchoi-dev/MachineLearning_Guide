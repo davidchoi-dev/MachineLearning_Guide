{
 "cells": [
  {
   "cell_type": "markdown",
   "metadata": {},
   "source": [
    "# 실루엣 분석\n",
    "- 비지도학습의 특성상 성능을 평가하는 것은 어렵다.\n",
    "- 각 군집 간의 거리가 얼마나 효율적으로 분리돼 있는지를 나타냄\n",
    "- 다른 군집과의 거리는 떨어져 있고, 동일 군집끼리의 데이터는 서로 가깝게 잘 뭉쳐 있어야 한다.\n",
    "\n",
    "## 실루엣 계수\n",
    "$$s(i) = \\frac{(b(i) - a(i))}{(max(a(i),b(i)))}$$\n",
    "![image](https://www.researchgate.net/profile/Mark_Stamp/publication/272017073/figure/fig2/AS:367168605704193@1464551225139/Silhouette-coefficient-example.png)\n",
    "- 개별 데이터가 가지는 군집화 지표"
   ]
  },
  {
   "cell_type": "code",
   "execution_count": null,
   "metadata": {},
   "outputs": [],
   "source": []
  }
 ],
 "metadata": {
  "hide_input": false,
  "kernelspec": {
   "display_name": "Python 3",
   "language": "python",
   "name": "python3"
  },
  "language_info": {
   "codemirror_mode": {
    "name": "ipython",
    "version": 3
   },
   "file_extension": ".py",
   "mimetype": "text/x-python",
   "name": "python",
   "nbconvert_exporter": "python",
   "pygments_lexer": "ipython3",
   "version": "3.7.1"
  },
  "toc": {
   "base_numbering": 1,
   "nav_menu": {},
   "number_sections": true,
   "sideBar": true,
   "skip_h1_title": false,
   "title_cell": "Table of Contents",
   "title_sidebar": "Contents",
   "toc_cell": false,
   "toc_position": {},
   "toc_section_display": true,
   "toc_window_display": false
  }
 },
 "nbformat": 4,
 "nbformat_minor": 2
}
